{
 "cells": [
  {
   "cell_type": "markdown",
   "metadata": {},
   "source": [
    "**Задание на зачет:**\n",
    "\n",
    "У вас есть документ: Info.xlsx\n",
    "\n",
    "Вам нужно на python написать скрипт, с помощью которого генерируется 1000 разных pdf файлов по строкам из Info.xlsx.\n",
    "\n",
    "Вид итогового документа:"
   ]
  },
  {
   "cell_type": "markdown",
   "metadata": {},
   "source": [
    "![](example.png)"
   ]
  },
  {
   "cell_type": "markdown",
   "metadata": {},
   "source": [
    "Способ формирования документа:\n",
    "\n",
    "Из xlsx файла убирается случайным образом от (0; 30] % строк. \n",
    "\n",
    "* Одна строка – это набор значений из колонок A-G из исходного xlsx документа (набор значений не меняется) \n",
    "* +3 дополнительных сгенеренных значения для колонок **'Ориентировочный объем', 'Стоимость за единицу', 'Всего'**:\n",
    "\n",
    "**1. Ориентировочный объем** – это случайное целое значение в интервале от 1 до 100\n",
    "\n",
    "**2. Стоимость** – случайное числовое значение [0 ; 1000000], округление до 2-го знака (до копейки). В итоговом документе должно быть [10 ; 40]% нулевых значений, 50% значений: (0 ; 100000], остальные – со значениями больше 100000\n",
    "\n",
    "**3. Всего** – произведение объема и стоимости."
   ]
  },
  {
   "cell_type": "markdown",
   "metadata": {},
   "source": [
    "Convert Excel to PDF in Python | XLSX to PDF, XLS to PDF in Python\n",
    "\n",
    "https://blog.aspose.com/2021/04/02/convert-excel-files-to-pdf-in-python/"
   ]
  },
  {
   "cell_type": "code",
   "execution_count": 1,
   "metadata": {},
   "outputs": [],
   "source": [
    "#!pip install xlsxwriter\n",
    "#!pip install aspose-cells\n",
    "#!pip install PyPDF2\n",
    "#!pip install pymupdf"
   ]
  },
  {
   "cell_type": "code",
   "execution_count": 2,
   "metadata": {},
   "outputs": [],
   "source": [
    "import pandas as pd\n",
    "import numpy as np\n",
    "import random\n",
    "import os\n",
    "\n",
    "import jpype\n",
    "import asposecells\n",
    "jpype.startJVM()\n",
    "from asposecells.api import Workbook, SaveFormat, PdfSaveOptions, PageOrientationType"
   ]
  },
  {
   "cell_type": "markdown",
   "metadata": {},
   "source": [
    "https://pythonru.com/uroki/osnovy-pandas-3-vazhnye-metody-formatirovanija-dannyh#:~:text=%D0%A1%D0%BF%D0%BE%D1%81%D0%BE%D0%B1%D1%8B%20%D0%BE%D0%B1%D1%8A%D0%B5%D0%B4%D0%B8%D0%BD%D0%B5%D0%BD%D0%B8%D1%8F%3A%20inner%2C%20outer%2C%20left%2C%20right&text=%D0%92%20SQL%20%D0%B5%D1%81%D1%82%D1%8C%204%20%D1%82%D0%B8%D0%BF%D0%B0,%D0%BC%D0%BE%D0%B6%D0%BD%D0%BE%20%D0%BD%D0%B0%D0%B9%D1%82%D0%B8%20%D0%B2%20%D0%BE%D0%B1%D0%B5%D0%B8%D1%85%20%D1%82%D0%B0%D0%B1%D0%BB%D0%B8%D1%86%D0%B0%D1%85."
   ]
  },
  {
   "cell_type": "markdown",
   "metadata": {},
   "source": [
    "### 1. Загрузка"
   ]
  },
  {
   "cell_type": "code",
   "execution_count": 3,
   "metadata": {},
   "outputs": [],
   "source": [
    "cols = ['A', 'B', 'C', 'D', 'E', 'F', 'G', 'H', 'I', 'J'] #, 'K', 'L']\n",
    "head = pd.read_excel('Info.xlsx', names=cols)[:6]\n",
    "head['I'][4]  = 'Стоимость за единицу, руб'\n",
    "head['J'][4]  = 'Итого стоимость, руб'"
   ]
  },
  {
   "cell_type": "code",
   "execution_count": 4,
   "metadata": {
    "scrolled": true
   },
   "outputs": [],
   "source": [
    "# Load the xlsx file\n",
    "data = pd.read_excel('Info.xlsx', header=6,  usecols = list(range(9)), names=cols) # index_col = list(range(5)),\n",
    "#data.head(3)"
   ]
  },
  {
   "cell_type": "code",
   "execution_count": 5,
   "metadata": {
    "scrolled": true
   },
   "outputs": [],
   "source": [
    "n,m = np.shape(data)\n",
    "n,m\n",
    "data_end = 0\n",
    "for i in range(n-1,1,-1):\n",
    "    if data['I'][i] == 'ИТОГО':\n",
    "        data_end = i\n",
    "footer = data[:][data_end:]\n",
    "data = data[:][:data_end]"
   ]
  },
  {
   "cell_type": "markdown",
   "metadata": {},
   "source": [
    "### 2. Предобработка df"
   ]
  },
  {
   "cell_type": "code",
   "execution_count": 6,
   "metadata": {},
   "outputs": [],
   "source": [
    "def GetDct(num, name, status, damaged, jobs, unit, serviceNum, volume, cost, total):\n",
    "    dct = {\n",
    "        'A':num, \n",
    "        'B':name,                  \n",
    "        'C':status,      \n",
    "        'D':damaged,     \n",
    "        'E':jobs,          \n",
    "        'F':unit,         \n",
    "        'G':serviceNum,\n",
    "        'H':volume,       \n",
    "        'I':cost,           \n",
    "        'J':total}     \n",
    "    return dct"
   ]
  },
  {
   "cell_type": "code",
   "execution_count": 7,
   "metadata": {},
   "outputs": [],
   "source": [
    "num = ''\n",
    "name = ''\n",
    "status = ''\n",
    "damaged = ''\n",
    "jobs = ''\n",
    "unit = ''\n",
    "serviceNum = ''\n",
    "#volume = 0\n",
    "#cost = 0\n",
    "#total = 0"
   ]
  },
  {
   "cell_type": "code",
   "execution_count": 8,
   "metadata": {
    "scrolled": true
   },
   "outputs": [],
   "source": [
    "arr=[]\n",
    "for i in range(0,data_end):\n",
    "    if not(pd.isna(data['A'][i])):\n",
    "        num = data['A'][i]\n",
    "        name = data['B'][i]\n",
    "        status = data['C'][i]\n",
    "    if not(pd.isna(data['D'][i])):  \n",
    "        damaged = data['D'][i]\n",
    "    jobs = data['E'][i]\n",
    "    unit = data['F'][i]\n",
    "    serviceNum = str(int(data['G'][i]))\n",
    "    dct = GetDct(num, name, status, damaged, jobs, unit, serviceNum, 0,0,0) # volume, cost, total)\n",
    "    arr.append(dct)\n",
    "df = pd.DataFrame(arr)\n",
    "#df"
   ]
  },
  {
   "cell_type": "markdown",
   "metadata": {},
   "source": [
    "### 3. Обработка"
   ]
  },
  {
   "cell_type": "code",
   "execution_count": 9,
   "metadata": {
    "scrolled": false
   },
   "outputs": [],
   "source": [
    "def DOCS(df):\n",
    "    arr=[]\n",
    "    p = random.randint(0,30)\n",
    "    for i in range(0, data_end):\n",
    "        if random.randint(0, 100) > p: \n",
    "            num = df['A'][i]\n",
    "            name = df['B'][i]\n",
    "            status = df['C'][i]\n",
    "            damaged = df['D'][i]\n",
    "            jobs = df['E'][i]\n",
    "            unit = df['F'][i]\n",
    "            serviceNum = str(int(df['G'][i]))\n",
    "            volume = random.randint(1,100)\n",
    "            p1 = random.randint(1,10)\n",
    "            if p1 < 6:                     \n",
    "                cost = round(random.uniform(0, 1e5), 2)\n",
    "            elif p1 < random.randint(6,9): \n",
    "                cost = 0\n",
    "            else:                      \n",
    "                cost = round(random.uniform(1e5, 1e6), 2)\n",
    "            total = volume * cost \n",
    "            dct = GetDct(num, name, status, damaged, jobs, unit, serviceNum, volume, cost, total)\n",
    "            arr.append(dct)\n",
    "    newdf = pd.DataFrame(arr)\n",
    "    return newdf"
   ]
  },
  {
   "cell_type": "code",
   "execution_count": 10,
   "metadata": {},
   "outputs": [],
   "source": [
    "from pathlib import Path\n",
    "import fitz\n",
    "import numpy as np\n",
    "from PIL import Image\n",
    "\n",
    "def generate(start, end):\n",
    "    return random.randint(start, end)\n",
    "\n",
    "FONST = ['Times New Roman', 'Calibri', 'Aial']\n",
    "width = [54, 85, 62, 110, 221, 54, 74, 54, 54, 54, 54, 54]"
   ]
  },
  {
   "cell_type": "code",
   "execution_count": 13,
   "metadata": {},
   "outputs": [],
   "source": [
    "for k in range(100):\n",
    "    newdf = DOCS(df)\n",
    "    \n",
    "    # Склеиваем обратно\n",
    "    docs = pd.merge(head, newdf, how = 'outer')\n",
    "    docs = pd.merge(docs, footer, how = 'outer')\n",
    "    for col in ['A', 'B', 'C', 'D']:\n",
    "        last_valid = docs.at[6, col]\n",
    "        for i in range(10, len(docs) - 7):\n",
    "            if pd.isna(docs.at[i, col]):\n",
    "                docs.at[i, col] = last_valid\n",
    "            else:\n",
    "                last_valid = docs.at[i, col]\n",
    "\n",
    "    #Формируем Excel\n",
    "    writer = pd.ExcelWriter(path='output\\output{}.xlsx'.format(k))\n",
    "    docs.to_excel(excel_writer = writer, sheet_name = 'main', header=False, index=False)\n",
    "    font_name = FONST[generate(0, 2)]\n",
    "    font_size = generate(9, 12)\n",
    "    workbook = writer.book\n",
    "    worksheet = writer.sheets['main']\n",
    "    worksheet.set_landscape()\n",
    "    worksheet.fit_to_pages(1, 0) \n",
    "    worksheet.set_row(5, 80)\n",
    "    merge_format = workbook.add_format({'text_wrap': True, 'border': 1, 'align': 'center', 'valign': 'top'})\n",
    "    for col, col_ind in [('A',0), ('B',1), ('C',2), ('D',3)]:\n",
    "        startCells = [10]\n",
    "        for row in range(11, len(docs) - 8):\n",
    "            if docs.loc[row, col] != docs.loc[row-1, col]:\n",
    "                startCells.append(row)\n",
    "        startCells.append(len(docs) - 7)\n",
    "        for i in range(len(startCells)-1):\n",
    "            startRow = startCells[i]\n",
    "            endRow = startCells[i+1]-1;\n",
    "            if startRow == endRow:\n",
    "                s = docs.loc[startRow, col] #startRow-1 \n",
    "                worksheet.write(startRow, col_ind, s , merge_format)\n",
    "            else:\n",
    "                s = docs.loc[startRow, col]\n",
    "                worksheet.merge_range(startRow, col_ind, endRow, col_ind, s , merge_format)\n",
    "    merge_format.set_font_name(font_name)\n",
    "    merge_format.set_font_size(font_size)\n",
    "    for column, w in zip(docs, width):\n",
    "        col_idx = docs.columns.get_loc(column)\n",
    "        worksheet.set_column(col_idx, col_idx, w / 6, merge_format)\n",
    "    cell_format = workbook.add_format({'bg_color': '#deebf6', 'text_wrap': True, 'border': 2, 'bold': True,\n",
    "                                     'font_name': font_name,'font_size': font_size,'align': 'center','valign': 'vcenter'})\n",
    "    for i in range(8, 10):\n",
    "        for j, col in zip(range(len(cols)), cols):\n",
    "            s = docs.loc[i, col]\n",
    "            worksheet.write(i, j, s, cell_format)\n",
    "    for i in range(4,7):\n",
    "        s = docs.loc[len(docs) - i, 'A']\n",
    "        worksheet.merge_range(len(docs) - i,  0, len(docs) - i, 3, s)\n",
    "    merge_format = workbook.add_format({'text_wrap': True, 'align': 'right', 'bold': True,\n",
    "                                        'valign': 'top','font_size': 15 })\n",
    "    worksheet.merge_range('A1:J1', 'Приложение '+str(i)+'\\nк Техническому заданию', merge_format)\n",
    "    worksheet.merge_range('A3:J8', 'ПЕРЕЧЕНЬ ПО МЕЛКОМУ РЕМОНТУ', merge_format)\n",
    "    merge_format = workbook.add_format({'text_wrap': True, 'align': 'right','valign': 'top'})\n",
    "    worksheet.merge_range('A2:J2', 'к Техническому заданию', merge_format)\n",
    "    writer.save()    \n",
    "    \n",
    "    #Формируем PDF\n",
    "    workbook = Workbook('output\\output{}.xlsx'.format(k))\n",
    "    workbook.save('output\\output{}.pdf'.format(k), SaveFormat.PDF)\n",
    "    \n",
    "    #Поворачиваем PDF\n",
    "    pdffile = 'output/output{}.pdf'.format(str(k))\n",
    "    doc = fitz.open(pdffile)\n",
    "    angle = generate(-10, 10) \n",
    "\n",
    "    for page_id in range(doc.page_count):\n",
    "        page = doc.load_page(page_id)\n",
    "        pix = page.get_pixmap(alpha=False, dpi=154)\n",
    "        im = np.frombuffer(buffer=pix.samples, dtype=np.uint8).reshape((pix.height, pix.width, 3))\n",
    "        im = Image.fromarray(im)\n",
    "        im = im.crop((0, 50, pix.width, pix.height))\n",
    "\n",
    "        im = im.rotate(angle)\n",
    "        im.save('_tmp.pdf')\n",
    "\n",
    "        page_front = fitz.open()\n",
    "        page_front.insert_pdf(fitz.open('_tmp.pdf'), from_page=page_id, to_page=page_id)\n",
    "        page.show_pdf_page(page.rect, page_front, pno=0, keep_proportion=True, overlay=True, oc=0, rotate=0, clip=None)\n",
    "\n",
    "    doc.save('output/pdf_rotated{}.pdf'.format(str(k), encryption=fitz.PDF_ENCRYPT_KEEP))"
   ]
  }
 ],
 "metadata": {
  "kernelspec": {
   "display_name": "Python 3 (ipykernel)",
   "language": "python",
   "name": "python3"
  },
  "language_info": {
   "codemirror_mode": {
    "name": "ipython",
    "version": 3
   },
   "file_extension": ".py",
   "mimetype": "text/x-python",
   "name": "python",
   "nbconvert_exporter": "python",
   "pygments_lexer": "ipython3",
   "version": "3.9.7"
  }
 },
 "nbformat": 4,
 "nbformat_minor": 4
}
